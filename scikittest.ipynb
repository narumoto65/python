{
 "cells": [
  {
   "cell_type": "code",
   "execution_count": 25,
   "metadata": {
    "collapsed": true
   },
   "outputs": [],
   "source": [
    "from sklearn import datasets"
   ]
  },
  {
   "cell_type": "code",
   "execution_count": 26,
   "metadata": {
    "collapsed": true
   },
   "outputs": [],
   "source": [
    "from sklearn import cross_validation"
   ]
  },
  {
   "cell_type": "code",
   "execution_count": 27,
   "metadata": {
    "collapsed": true
   },
   "outputs": [],
   "source": [
    "iris = datasets.load_iris()\n",
    "train_X, test_X, train_y, test_y = cross_validation.train_test_split(iris.data,iris.target, test_size=0.3, random_state=0)"
   ]
  },
  {
   "cell_type": "code",
   "execution_count": 28,
   "metadata": {
    "collapsed": true
   },
   "outputs": [],
   "source": [
    "from sklearn.preprocessing import StandardScaler"
   ]
  },
  {
   "cell_type": "code",
   "execution_count": 29,
   "metadata": {
    "collapsed": true
   },
   "outputs": [],
   "source": [
    "sc = StandardScaler()"
   ]
  },
  {
   "cell_type": "code",
   "execution_count": 30,
   "metadata": {
    "collapsed": false
   },
   "outputs": [
    {
     "data": {
      "text/plain": [
       "StandardScaler(copy=True, with_mean=True, with_std=True)"
      ]
     },
     "execution_count": 30,
     "metadata": {},
     "output_type": "execute_result"
    }
   ],
   "source": [
    "sc.fit(train_X)"
   ]
  },
  {
   "cell_type": "code",
   "execution_count": 31,
   "metadata": {
    "collapsed": true
   },
   "outputs": [],
   "source": [
    "train_X = sc.transform(train_X)"
   ]
  },
  {
   "cell_type": "code",
   "execution_count": 32,
   "metadata": {
    "collapsed": true
   },
   "outputs": [],
   "source": [
    "test_X=sc.transform(test_X)"
   ]
  },
  {
   "cell_type": "code",
   "execution_count": 33,
   "metadata": {
    "collapsed": false
   },
   "outputs": [
    {
     "name": "stdout",
     "output_type": "stream",
     "text": [
      "[[-0.10694994 -0.55721505  0.70793846  1.50872803]\n",
      " [ 0.1222285  -1.92315077  0.09545238 -0.29145882]\n",
      " [-0.45071761  2.6299683  -1.35224199 -1.32013702]\n",
      " [ 1.6118884  -0.32955909  1.37610509  0.73721938]\n",
      " [-1.02366372  0.80872067 -1.29656144 -1.32013702]\n",
      " [ 0.46599617  0.58106472  1.20906343  1.6373128 ]\n",
      " [-1.02366372  1.03637663 -1.40792255 -1.19155225]\n",
      " [ 0.92435306  0.12575281  0.48521625  0.35146505]\n",
      " [ 1.03894229 -0.55721505  0.5408968   0.22288028]\n",
      " [ 0.23681773 -0.55721505  0.09545238  0.0942955 ]\n",
      " [ 0.23681773 -1.01252695  0.98634122  0.22288028]\n",
      " [ 0.5805854   0.35340877  0.37385514  0.35146505]\n",
      " [ 0.23681773 -0.55721505  0.48521625 -0.03428927]\n",
      " [ 0.69517462 -0.55721505  0.42953569  0.35146505]\n",
      " [ 0.23681773 -0.32955909  0.48521625  0.22288028]\n",
      " [-1.13825295  0.12575281 -1.29656144 -1.4487218 ]\n",
      " [ 0.1222285  -0.32955909  0.37385514  0.35146505]\n",
      " [-0.45071761 -1.01252695  0.31817459 -0.03428927]\n",
      " [-1.25284217 -0.10190314 -1.35224199 -1.19155225]\n",
      " [-0.56530683  1.94700044 -1.40792255 -1.06296747]\n",
      " [-0.33612839 -0.55721505  0.59657735  0.99438893]\n",
      " [-0.33612839 -0.10190314  0.37385514  0.35146505]\n",
      " [-1.25284217  0.80872067 -1.07383923 -1.32013702]\n",
      " [-1.71119906 -0.32955909 -1.35224199 -1.32013702]\n",
      " [ 0.35140695 -0.55721505  0.5408968   0.73721938]\n",
      " [-1.48202061  1.26403258 -1.57496421 -1.32013702]\n",
      " [-0.9090745   1.71934449 -1.07383923 -1.06296747]\n",
      " [ 0.35140695 -0.32955909  0.26249403  0.0942955 ]\n",
      " [-1.02366372 -1.69549482 -0.29431149 -0.29145882]\n",
      " [-1.02366372  0.80872067 -1.24088089 -1.06296747]\n",
      " [ 0.5805854   0.12575281  0.93066067  0.73721938]\n",
      " [-0.56530683 -0.10190314  0.37385514  0.35146505]\n",
      " [-0.79448528  1.03637663 -1.29656144 -1.32013702]\n",
      " [ 0.23681773 -0.10190314  0.59657735  0.73721938]\n",
      " [ 0.5805854  -0.55721505  0.98634122  1.25155848]\n",
      " [-0.79448528 -0.784871    0.03977182  0.22288028]\n",
      " [-0.22153916  1.71934449 -1.18520034 -1.19155225]\n",
      " [ 0.1222285  -0.784871    0.70793846  0.48004983]\n",
      " [ 0.00763928 -0.10190314  0.20681348  0.35146505]\n",
      " [-0.10694994 -1.01252695  0.09545238 -0.03428927]\n",
      " [ 1.03894229 -0.10190314  0.93066067  1.1229737 ]\n",
      " [-1.36743139  0.35340877 -1.40792255 -1.32013702]\n",
      " [ 1.15353151  0.12575281  0.70793846  1.38014325]\n",
      " [-1.02366372  1.03637663 -1.24088089 -0.80579792]\n",
      " [-0.56530683  1.49168853 -1.29656144 -1.32013702]]\n"
     ]
    }
   ],
   "source": [
    "print test_X"
   ]
  },
  {
   "cell_type": "code",
   "execution_count": 34,
   "metadata": {
    "collapsed": true
   },
   "outputs": [],
   "source": [
    "from sklearn.tree import DecisionTreeClassifier\n",
    "from sklearn.metrics import accuracy_score"
   ]
  },
  {
   "cell_type": "code",
   "execution_count": 20,
   "metadata": {
    "collapsed": true
   },
   "outputs": [],
   "source": [
    "clf = DecisionTreeClassifier()"
   ]
  },
  {
   "cell_type": "code",
   "execution_count": 21,
   "metadata": {
    "collapsed": false
   },
   "outputs": [
    {
     "data": {
      "text/plain": [
       "DecisionTreeClassifier(class_weight=None, criterion='gini', max_depth=None,\n",
       "            max_features=None, max_leaf_nodes=None, min_samples_leaf=1,\n",
       "            min_samples_split=2, min_weight_fraction_leaf=0.0,\n",
       "            random_state=None, splitter='best')"
      ]
     },
     "execution_count": 21,
     "metadata": {},
     "output_type": "execute_result"
    }
   ],
   "source": [
    "clf.fit(train_X,train_y)"
   ]
  },
  {
   "cell_type": "code",
   "execution_count": 22,
   "metadata": {
    "collapsed": false
   },
   "outputs": [],
   "source": [
    "pred_y = clf.predict(test_X)"
   ]
  },
  {
   "cell_type": "code",
   "execution_count": 23,
   "metadata": {
    "collapsed": false
   },
   "outputs": [
    {
     "data": {
      "text/plain": [
       "0.97777777777777775"
      ]
     },
     "execution_count": 23,
     "metadata": {},
     "output_type": "execute_result"
    }
   ],
   "source": [
    "accuracy_score(test_y,pred_y)"
   ]
  },
  {
   "cell_type": "code",
   "execution_count": 2,
   "metadata": {
    "collapsed": true
   },
   "outputs": [],
   "source": [
    "from sklearn import tree\n",
    "#[height,weight,shoe size]\n",
    "x = [[181,80,44],[177,70,43],[160,60,38],[154,54,37],[166,65,40],[190,90,47],[175,64,39],[170,70,40],[159,55,37],[171,75,42]]\n"
   ]
  },
  {
   "cell_type": "code",
   "execution_count": 6,
   "metadata": {
    "collapsed": false
   },
   "outputs": [],
   "source": [
    "y = ['male','female','female','female','male','male','male','female','male','female']\n",
    "#y=['friends','not friends','not friends','friends','friends']\n",
    "clf = tree.DecisionTreeClassifier()\n",
    "test_x = [[187,76,45],[176,70,43],[167,60,47],[154,54,37]]\n",
    "test_y = ['male','female','male','female']\n",
    "#test_x = [[[187,76,45],[176,70,43]],[[167,60,47],[154,54,37]]]\n",
    "#test_y = test_y = ['friends','not friends']"
   ]
  },
  {
   "cell_type": "code",
   "execution_count": 7,
   "metadata": {
    "collapsed": false
   },
   "outputs": [],
   "source": [
    "clf = clf.fit(x,y)"
   ]
  },
  {
   "cell_type": "code",
   "execution_count": 24,
   "metadata": {
    "collapsed": false
   },
   "outputs": [
    {
     "ename": "ValueError",
     "evalue": "Number of features of the model must  match the input. Model n_features is 4 and  input n_features is 3 ",
     "output_type": "error",
     "traceback": [
      "\u001b[0;31m---------------------------------------------------------------------------\u001b[0m",
      "\u001b[0;31mValueError\u001b[0m                                Traceback (most recent call last)",
      "\u001b[0;32m<ipython-input-24-861113d73437>\u001b[0m in \u001b[0;36m<module>\u001b[0;34m()\u001b[0m\n\u001b[0;32m----> 1\u001b[0;31m \u001b[0mprediction\u001b[0m \u001b[0;34m=\u001b[0m \u001b[0mclf\u001b[0m\u001b[0;34m.\u001b[0m\u001b[0mpredict\u001b[0m\u001b[0;34m(\u001b[0m\u001b[0mtest_x\u001b[0m\u001b[0;34m)\u001b[0m\u001b[0;34m\u001b[0m\u001b[0m\n\u001b[0m\u001b[1;32m      2\u001b[0m \u001b[0;32mprint\u001b[0m \u001b[0mprediction\u001b[0m\u001b[0;34m\u001b[0m\u001b[0m\n\u001b[1;32m      3\u001b[0m \u001b[0maccuracy_score\u001b[0m\u001b[0;34m(\u001b[0m\u001b[0mtest_y\u001b[0m\u001b[0;34m,\u001b[0m\u001b[0mprediction\u001b[0m\u001b[0;34m)\u001b[0m\u001b[0;34m\u001b[0m\u001b[0m\n",
      "\u001b[0;32m/Users/sera/.pyenv/versions/anaconda-2.4.0/lib/python2.7/site-packages/sklearn/tree/tree.pyc\u001b[0m in \u001b[0;36mpredict\u001b[0;34m(self, X, check_input)\u001b[0m\n\u001b[1;32m    349\u001b[0m                              \u001b[0;34m\" match the input. Model n_features is %s and \"\u001b[0m\u001b[0;34m\u001b[0m\u001b[0m\n\u001b[1;32m    350\u001b[0m                              \u001b[0;34m\" input n_features is %s \"\u001b[0m\u001b[0;34m\u001b[0m\u001b[0m\n\u001b[0;32m--> 351\u001b[0;31m                              % (self.n_features_, n_features))\n\u001b[0m\u001b[1;32m    352\u001b[0m \u001b[0;34m\u001b[0m\u001b[0m\n\u001b[1;32m    353\u001b[0m         \u001b[0mproba\u001b[0m \u001b[0;34m=\u001b[0m \u001b[0mself\u001b[0m\u001b[0;34m.\u001b[0m\u001b[0mtree_\u001b[0m\u001b[0;34m.\u001b[0m\u001b[0mpredict\u001b[0m\u001b[0;34m(\u001b[0m\u001b[0mX\u001b[0m\u001b[0;34m)\u001b[0m\u001b[0;34m\u001b[0m\u001b[0m\n",
      "\u001b[0;31mValueError\u001b[0m: Number of features of the model must  match the input. Model n_features is 4 and  input n_features is 3 "
     ]
    }
   ],
   "source": [
    "prediction = clf.predict(test_x)\n",
    "print prediction\n",
    "accuracy_score(test_y,prediction)"
   ]
  },
  {
   "cell_type": "code",
   "execution_count": 4,
   "metadata": {
    "collapsed": false
   },
   "outputs": [],
   "source": [
    "import matplotlib.pyplot as plt\n",
    "from sklearn import tree\n",
    "from sklearn.svm import SVC\n",
    "from sklearn.preprocessing import StandardScaler\n",
    "from sklearn.metrics import accuracy_score\n",
    "x = [[181,80,44],[177,70,43],[160,60,38],[154,54,37],[166,65,40],[190,90,47],[175,64,39],[170,70,40],[159,55,37],[171,75,42]]\n",
    "y = ['male','female','female','female','male','male','male','female','male','female']\n",
    "#clf = tree.DecisionTreeClassifier()\n",
    "clf = tree.DecisionTreeClassifier()\n",
    "test_x = [[187,76,45],[176,70,43],[167,60,47],[154,54,37]]\n",
    "test_y = ['male','female','male','female']\n",
    "clf = clf.fit(x,y)\n",
    "prediction = clf.predict(test_x)\n",
    "#print prediction\n",
    "#print(accuracy_score(test_y,prediction))\n",
    "tree.export_graphviz(clf,out_file=\"tree.dot\")"
   ]
  },
  {
   "cell_type": "code",
   "execution_count": 1,
   "metadata": {
    "collapsed": false
   },
   "outputs": [
    {
     "ename": "IOError",
     "evalue": "File not open for reading",
     "output_type": "error",
     "traceback": [
      "\u001b[0;31m---------------------------------------------------------------------------\u001b[0m",
      "\u001b[0;31mIOError\u001b[0m                                   Traceback (most recent call last)",
      "\u001b[0;32m<ipython-input-1-cf80a04f874e>\u001b[0m in \u001b[0;36m<module>\u001b[0;34m()\u001b[0m\n\u001b[1;32m      6\u001b[0m \u001b[0mf\u001b[0m \u001b[0;34m=\u001b[0m \u001b[0mopen\u001b[0m\u001b[0;34m(\u001b[0m\u001b[0moutput\u001b[0m\u001b[0;34m[\u001b[0m\u001b[0;36m0\u001b[0m\u001b[0;34m]\u001b[0m\u001b[0;34m,\u001b[0m\u001b[0;34m'w'\u001b[0m\u001b[0;34m)\u001b[0m\u001b[0;34m\u001b[0m\u001b[0m\n\u001b[1;32m      7\u001b[0m \u001b[0mdataReader\u001b[0m \u001b[0;34m=\u001b[0m \u001b[0mcsv\u001b[0m\u001b[0;34m.\u001b[0m\u001b[0mreader\u001b[0m\u001b[0;34m(\u001b[0m\u001b[0mf\u001b[0m\u001b[0;34m)\u001b[0m\u001b[0;34m\u001b[0m\u001b[0m\n\u001b[0;32m----> 8\u001b[0;31m \u001b[0;32mfor\u001b[0m \u001b[0mrow\u001b[0m \u001b[0;32min\u001b[0m \u001b[0mdataReader\u001b[0m\u001b[0;34m:\u001b[0m\u001b[0;34m\u001b[0m\u001b[0m\n\u001b[0m\u001b[1;32m      9\u001b[0m     \u001b[0mchars\u001b[0m\u001b[0;34m=\u001b[0m \u001b[0mlist\u001b[0m\u001b[0;34m(\u001b[0m\u001b[0mrow\u001b[0m\u001b[0;34m)\u001b[0m\u001b[0;34m\u001b[0m\u001b[0m\n\u001b[1;32m     10\u001b[0m     \u001b[0;32mfor\u001b[0m \u001b[0mi\u001b[0m \u001b[0;32min\u001b[0m \u001b[0mrange\u001b[0m\u001b[0;34m(\u001b[0m\u001b[0mlen\u001b[0m\u001b[0;34m(\u001b[0m\u001b[0mrow\u001b[0m\u001b[0;34m)\u001b[0m\u001b[0;34m)\u001b[0m\u001b[0;34m:\u001b[0m\u001b[0;34m\u001b[0m\u001b[0m\n",
      "\u001b[0;31mIOError\u001b[0m: File not open for reading"
     ]
    }
   ],
   "source": [
    "#coding:utf-8\n",
    "import csv\n",
    "input = ['wakamatsu.csv','maruyama.csv']\n",
    "output = ['text1.txt','text2.txt']\n",
    "d = open(input[0],'rb')\n",
    "f = open(output[0],'w')\n",
    "dataReader = csv.reader(f)\n",
    "for row in dataReader:\n",
    "    chars= list(row)\n",
    "    for i in range(len(row)):\n",
    "        if chars[i].isdigit():\n",
    "            d.write(chars[i])\n",
    "            d.write(',')\n",
    "    d.close"
   ]
  },
  {
   "cell_type": "code",
   "execution_count": 20,
   "metadata": {
    "collapsed": true
   },
   "outputs": [],
   "source": [
    "#coding:utf-8\n",
    "import csv\n",
    "inpu = ['wakamatsu.csv','maruyama.csv']\n",
    "output = ['text.txt','text2.txt']"
   ]
  },
  {
   "cell_type": "code",
   "execution_count": 21,
   "metadata": {
    "collapsed": false
   },
   "outputs": [
    {
     "name": "stderr",
     "output_type": "stream",
     "text": [
      "close failed in file object destructor:\n"
     ]
    },
    {
     "ename": "IOError",
     "evalue": "[Errno 13] Permission denied",
     "output_type": "error",
     "traceback": [
      "\u001b[0;31m---------------------------------------------------------------------------\u001b[0m",
      "\u001b[0;31mIOError\u001b[0m                                   Traceback (most recent call last)",
      "\u001b[0;31mIOError\u001b[0m: [Errno 13] Permission denied"
     ]
    }
   ],
   "source": [
    "d = open(inpu[0],'rb')\n",
    "f = open(output[0],'w')"
   ]
  },
  {
   "cell_type": "code",
   "execution_count": 15,
   "metadata": {
    "collapsed": true
   },
   "outputs": [],
   "source": [
    "dataReader = csv.reader(f)"
   ]
  },
  {
   "cell_type": "code",
   "execution_count": 16,
   "metadata": {
    "collapsed": false
   },
   "outputs": [
    {
     "ename": "IOError",
     "evalue": "File not open for reading",
     "output_type": "error",
     "traceback": [
      "\u001b[0;31m---------------------------------------------------------------------------\u001b[0m",
      "\u001b[0;31mIOError\u001b[0m                                   Traceback (most recent call last)",
      "\u001b[0;32m<ipython-input-16-1e4d4c7f82c8>\u001b[0m in \u001b[0;36m<module>\u001b[0;34m()\u001b[0m\n\u001b[0;32m----> 1\u001b[0;31m \u001b[0;32mfor\u001b[0m \u001b[0mrow\u001b[0m \u001b[0;32min\u001b[0m \u001b[0mdataReader\u001b[0m\u001b[0;34m:\u001b[0m\u001b[0;34m\u001b[0m\u001b[0m\n\u001b[0m\u001b[1;32m      2\u001b[0m     \u001b[0mchars\u001b[0m\u001b[0;34m=\u001b[0m \u001b[0mlist\u001b[0m\u001b[0;34m(\u001b[0m\u001b[0mrow\u001b[0m\u001b[0;34m)\u001b[0m\u001b[0;34m\u001b[0m\u001b[0m\n\u001b[1;32m      3\u001b[0m     \u001b[0;32mfor\u001b[0m \u001b[0mi\u001b[0m \u001b[0;32min\u001b[0m \u001b[0mrange\u001b[0m\u001b[0;34m(\u001b[0m\u001b[0mlen\u001b[0m\u001b[0;34m(\u001b[0m\u001b[0mrow\u001b[0m\u001b[0;34m)\u001b[0m\u001b[0;34m)\u001b[0m\u001b[0;34m:\u001b[0m\u001b[0;34m\u001b[0m\u001b[0m\n\u001b[1;32m      4\u001b[0m         \u001b[0;32mif\u001b[0m \u001b[0mchars\u001b[0m\u001b[0;34m[\u001b[0m\u001b[0mi\u001b[0m\u001b[0;34m]\u001b[0m\u001b[0;34m.\u001b[0m\u001b[0misdigit\u001b[0m\u001b[0;34m(\u001b[0m\u001b[0;34m)\u001b[0m\u001b[0;34m:\u001b[0m\u001b[0;34m\u001b[0m\u001b[0m\n\u001b[1;32m      5\u001b[0m             \u001b[0md\u001b[0m\u001b[0;34m.\u001b[0m\u001b[0mwrite\u001b[0m\u001b[0;34m(\u001b[0m\u001b[0mchars\u001b[0m\u001b[0;34m[\u001b[0m\u001b[0mi\u001b[0m\u001b[0;34m]\u001b[0m\u001b[0;34m)\u001b[0m\u001b[0;34m\u001b[0m\u001b[0m\n",
      "\u001b[0;31mIOError\u001b[0m: File not open for reading"
     ]
    }
   ],
   "source": [
    "for row in dataReader:\n",
    "    chars= list(row)\n",
    "    for i in range(len(row)):\n",
    "        if chars[i].isdigit():\n",
    "            d.write(chars[i])\n",
    "            d.write(',')\n",
    "    d.close"
   ]
  },
  {
   "cell_type": "code",
   "execution_count": 19,
   "metadata": {
    "collapsed": true
   },
   "outputs": [],
   "source": [
    "#coding:utf-8\n",
    "import csv\n",
    "inpu = ['text.txt']\n",
    "d = open(inpu[0],'w')\n",
    "f = open('hoge.csv','rb')\n",
    "dataReader=csv.reader(f)\n",
    "for row in dataReader:\n",
    "    chars= list(row)\n",
    "    for i in range(len(row)):\n",
    "        if chars[i].isdigit():\n",
    "            d.write(chars[i])\n",
    "            d.write(',')\n",
    "    d.close"
   ]
  },
  {
   "cell_type": "code",
   "execution_count": null,
   "metadata": {
    "collapsed": true
   },
   "outputs": [],
   "source": []
  }
 ],
 "metadata": {
  "kernelspec": {
   "display_name": "Python 2",
   "language": "python",
   "name": "python2"
  },
  "language_info": {
   "codemirror_mode": {
    "name": "ipython",
    "version": 2
   },
   "file_extension": ".py",
   "mimetype": "text/x-python",
   "name": "python",
   "nbconvert_exporter": "python",
   "pygments_lexer": "ipython2",
   "version": "2.7.10"
  }
 },
 "nbformat": 4,
 "nbformat_minor": 0
}
